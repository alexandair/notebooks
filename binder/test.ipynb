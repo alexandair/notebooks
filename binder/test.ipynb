{
 "cells": [
  {
   "cell_type": "code",
   "execution_count": 1,
   "metadata": {},
   "source": [
    "#!powershell\r\n",
    "1+1"
   ],
   "outputs": [
    {
     "output_type": "execute_result",
     "execution_count": 1,
     "data": {
      "text/plain": [
       "2\r\n",
       ""
      ]
     },
     "metadata": {}
    }
   ]
  },
  {
   "cell_type": "code",
   "execution_count": 1,
   "metadata": {},
   "source": [
    "#!pwsh\r\n",
    "1+1"
   ],
   "outputs": [
    {
     "output_type": "execute_result",
     "execution_count": 1,
     "data": {
      "text/plain": [
       "2\r\n",
       ""
      ]
     },
     "metadata": {}
    }
   ]
  },
  {
   "cell_type": "code",
   "execution_count": 1,
   "metadata": {},
   "source": [
    "1+1"
   ],
   "outputs": [
    {
     "output_type": "execute_result",
     "execution_count": 1,
     "data": {
      "text/html": [
       "2"
      ]
     },
     "metadata": {}
    }
   ]
  },
  {
   "cell_type": "code",
   "execution_count": 1,
   "metadata": {},
   "source": [
    "2+2"
   ],
   "outputs": [
    {
     "output_type": "execute_result",
     "execution_count": 1,
     "data": {
      "text/html": [
       "4"
      ]
     },
     "metadata": {}
    }
   ]
  },
  {
   "cell_type": "code",
   "execution_count": 1,
   "metadata": {},
   "source": [
    "#!powershell\r\n",
    "Get-Module -List"
   ],
   "outputs": [
    {
     "output_type": "execute_result",
     "execution_count": 1,
     "data": {
      "text/plain": [
       "\r\n",
       ""
      ]
     },
     "metadata": {}
    },
    {
     "output_type": "execute_result",
     "execution_count": 1,
     "data": {
      "text/plain": [
       "\r\n",
       ""
      ]
     },
     "metadata": {}
    },
    {
     "output_type": "execute_result",
     "execution_count": 1,
     "data": {
      "text/plain": [
       "    Directory: C:\\Users\\aleksandar\\.nuget\\packages\\microsoft.dotnet-interactive\\1.0.131505\\tools\\ne\r\n",
       ""
      ]
     },
     "metadata": {}
    },
    {
     "output_type": "execute_result",
     "execution_count": 1,
     "data": {
      "text/plain": [
       "tcoreapp3.1\\any\\Modules\r\n",
       ""
      ]
     },
     "metadata": {}
    },
    {
     "output_type": "execute_result",
     "execution_count": 1,
     "data": {
      "text/plain": [
       "\r\n",
       ""
      ]
     },
     "metadata": {}
    },
    {
     "output_type": "execute_result",
     "execution_count": 1,
     "data": {
      "text/plain": [
       "ModuleType Version    PreRelease Name                                PSEdition ExportedCommands\r\n",
       ""
      ]
     },
     "metadata": {}
    },
    {
     "output_type": "execute_result",
     "execution_count": 1,
     "data": {
      "text/plain": [
       "---------- -------    ---------- ----                                --------- ----------------\r\n",
       ""
      ]
     },
     "metadata": {}
    },
    {
     "output_type": "execute_result",
     "execution_count": 1,
     "data": {
      "text/plain": [
       "Manifest   0.1.0                 Microsoft.DotNet.Interactive.Power… Core      {Enter-AzShell, New…\r\n",
       ""
      ]
     },
     "metadata": {}
    },
    {
     "output_type": "execute_result",
     "execution_count": 1,
     "data": {
      "text/plain": [
       "Manifest   1.2.5                 Microsoft.PowerShell.Archive        Desk      {Compress-Archive, …\r\n",
       ""
      ]
     },
     "metadata": {}
    },
    {
     "output_type": "execute_result",
     "execution_count": 1,
     "data": {
      "text/plain": [
       "Script     1.4.6                 PackageManagement                   Desk      {Find-Package, Get-…\r\n",
       ""
      ]
     },
     "metadata": {}
    },
    {
     "output_type": "execute_result",
     "execution_count": 1,
     "data": {
      "text/plain": [
       "Script     2.2.3                 PowerShellGet                       Desk      {Find-Command, Find…\r\n",
       ""
      ]
     },
     "metadata": {}
    },
    {
     "output_type": "execute_result",
     "execution_count": 1,
     "data": {
      "text/plain": [
       "Binary     2.0.3                 ThreadJob                           Desk      Start-ThreadJob\r\n",
       ""
      ]
     },
     "metadata": {}
    },
    {
     "output_type": "execute_result",
     "execution_count": 1,
     "data": {
      "text/plain": [
       "\r\n",
       ""
      ]
     },
     "metadata": {}
    },
    {
     "output_type": "execute_result",
     "execution_count": 1,
     "data": {
      "text/plain": [
       "    Directory: C:\\Users\\aleksandar\\Documents\\PowerShell\\Modules\r\n",
       ""
      ]
     },
     "metadata": {}
    },
    {
     "output_type": "execute_result",
     "execution_count": 1,
     "data": {
      "text/plain": [
       "\r\n",
       ""
      ]
     },
     "metadata": {}
    },
    {
     "output_type": "execute_result",
     "execution_count": 1,
     "data": {
      "text/plain": [
       "ModuleType Version    PreRelease Name                                PSEdition ExportedCommands\r\n",
       ""
      ]
     },
     "metadata": {}
    },
    {
     "output_type": "execute_result",
     "execution_count": 1,
     "data": {
      "text/plain": [
       "---------- -------    ---------- ----                                --------- ----------------\r\n",
       ""
      ]
     },
     "metadata": {}
    },
    {
     "output_type": "execute_result",
     "execution_count": 1,
     "data": {
      "text/plain": [
       "Script     0.3                   arm-ttk                             Desk      {Import-Json, Forma…\r\n",
       ""
      ]
     },
     "metadata": {}
    },
    {
     "output_type": "execute_result",
     "execution_count": 1,
     "data": {
      "text/plain": [
       "Script     3.7.0                 Az                                  Core,Desk \r\n",
       ""
      ]
     },
     "metadata": {}
    },
    {
     "output_type": "execute_result",
     "execution_count": 1,
     "data": {
      "text/plain": [
       "Script     2.0.0      preview    Az.Accounts                         Core,Desk {Disable-AzDataColl…\r\n",
       ""
      ]
     },
     "metadata": {}
    },
    {
     "output_type": "execute_result",
     "execution_count": 1,
     "data": {
      "text/plain": [
       "Script     1.7.4                 Az.Accounts                         Core,Desk {Disable-AzDataColl…\r\n",
       ""
      ]
     },
     "metadata": {}
    },
    {
     "output_type": "execute_result",
     "execution_count": 1,
     "data": {
      "text/plain": [
       "Script     1.6.4                 Az.Accounts                         Core,Desk {Disable-AzDataColl…\r\n",
       ""
      ]
     },
     "metadata": {}
    },
    {
     "output_type": "execute_result",
     "execution_count": 1,
     "data": {
      "text/plain": [
       "Script     1.1.1                 Az.Advisor                          Core,Desk {Get-AzAdvisorRecom…\r\n",
       ""
      ]
     },
     "metadata": {}
    },
    {
     "output_type": "execute_result",
     "execution_count": 1,
     "data": {
      "text/plain": [
       "Script     1.0.3                 Az.Aks                              Core,Desk {Get-AzAks, New-AzA…\r\n",
       ""
      ]
     },
     "metadata": {}
    },
    {
     "output_type": "execute_result",
     "execution_count": 1,
     "data": {
      "text/plain": [
       "Script     1.1.2                 Az.AnalysisServices                 Core,Desk {Resume-AzAnalysisS…\r\n",
       ""
      ]
     },
     "metadata": {}
    },
    {
     "output_type": "execute_result",
     "execution_count": 1,
     "data": {
      "text/plain": [
       "Script     1.4.0                 Az.ApiManagement                    Core,Desk {Add-AzApiManagemen…\r\n",
       ""
      ]
     },
     "metadata": {}
    },
    {
     "output_type": "execute_result",
     "execution_count": 1,
     "data": {
      "text/plain": [
       "Script     1.0.3                 Az.ApplicationInsights              Core,Desk {Get-AzApplicationI…\r\n",
       ""
      ]
     },
     "metadata": {}
    },
    {
     "output_type": "execute_result",
     "execution_count": 1,
     "data": {
      "text/plain": [
       "Script     1.3.6                 Az.Automation                       Core,Desk {Get-AzAutomationHy…\r\n",
       ""
      ]
     },
     "metadata": {}
    },
    {
     "output_type": "execute_result",
     "execution_count": 1,
     "data": {
      "text/plain": [
       "Script     2.0.2                 Az.Batch                            Core,Desk {Remove-AzBatchAcco…\r\n",
       ""
      ]
     },
     "metadata": {}
    },
    {
     "output_type": "execute_result",
     "execution_count": 1,
     "data": {
      "text/plain": [
       "Script     1.0.2                 Az.Billing                          Core,Desk {Get-AzBillingInvoi…\r\n",
       ""
      ]
     },
     "metadata": {}
    },
    {
     "output_type": "execute_result",
     "execution_count": 1,
     "data": {
      "text/plain": [
       "Script     1.4.2                 Az.Cdn                              Core,Desk {Get-AzCdnProfile, …\r\n",
       ""
      ]
     },
     "metadata": {}
    },
    {
     "output_type": "execute_result",
     "execution_count": 1,
     "data": {
      "text/plain": [
       "Script     1.2.3                 Az.CognitiveServices                Core,Desk {Get-AzCognitiveSer…\r\n",
       ""
      ]
     },
     "metadata": {}
    },
    {
     "output_type": "execute_result",
     "execution_count": 1,
     "data": {
      "text/plain": [
       "Script     3.6.0                 Az.Compute                          Core,Desk {Remove-AzAvailabil…\r\n",
       ""
      ]
     },
     "metadata": {}
    },
    {
     "output_type": "execute_result",
     "execution_count": 1,
     "data": {
      "text/plain": [
       "Script     0.1.0                 Az.ConnectedMachine                 Core,Desk {Get-AzConnectedMac…\r\n",
       ""
      ]
     },
     "metadata": {}
    },
    {
     "output_type": "execute_result",
     "execution_count": 1,
     "data": {
      "text/plain": [
       "Script     1.0.3                 Az.ContainerInstance                Core,Desk {New-AzContainerGro…\r\n",
       ""
      ]
     },
     "metadata": {}
    },
    {
     "output_type": "execute_result",
     "execution_count": 1,
     "data": {
      "text/plain": [
       "Script     1.1.1                 Az.ContainerRegistry                Core,Desk {New-AzContainerReg…\r\n",
       ""
      ]
     },
     "metadata": {}
    },
    {
     "output_type": "execute_result",
     "execution_count": 1,
     "data": {
      "text/plain": [
       "Script     1.1.0                 Az.DataBoxEdge                      Core,Desk {Get-AzDataBoxEdgeJ…\r\n",
       ""
      ]
     },
     "metadata": {}
    },
    {
     "output_type": "execute_result",
     "execution_count": 1,
     "data": {
      "text/plain": [
       "Script     1.7.0                 Az.DataFactory                      Core,Desk {Set-AzDataFactoryV…\r\n",
       ""
      ]
     },
     "metadata": {}
    },
    {
     "output_type": "execute_result",
     "execution_count": 1,
     "data": {
      "text/plain": [
       "Script     1.0.2                 Az.DataLakeAnalytics                Core,Desk {Get-AzDataLakeAnal…\r\n",
       ""
      ]
     },
     "metadata": {}
    },
    {
     "output_type": "execute_result",
     "execution_count": 1,
     "data": {
      "text/plain": [
       "Script     1.2.8                 Az.DataLakeStore                    Core,Desk {Get-AzDataLakeStor…\r\n",
       ""
      ]
     },
     "metadata": {}
    },
    {
     "output_type": "execute_result",
     "execution_count": 1,
     "data": {
      "text/plain": [
       "Script     1.1.0                 Az.DeploymentManager                Core,Desk {Get-AzDeploymentMa…\r\n",
       ""
      ]
     },
     "metadata": {}
    },
    {
     "output_type": "execute_result",
     "execution_count": 1,
     "data": {
      "text/plain": [
       "Script     1.0.2                 Az.DevTestLabs                      Core,Desk {Get-AzDtlAllowedVM…\r\n",
       ""
      ]
     },
     "metadata": {}
    },
    {
     "output_type": "execute_result",
     "execution_count": 1,
     "data": {
      "text/plain": [
       "Script     1.1.2                 Az.Dns                              Core,Desk {Get-AzDnsRecordSet…\r\n",
       ""
      ]
     },
     "metadata": {}
    },
    {
     "output_type": "execute_result",
     "execution_count": 1,
     "data": {
      "text/plain": [
       "Script     1.2.3                 Az.EventGrid                        Core,Desk {New-AzEventGridTop…\r\n",
       ""
      ]
     },
     "metadata": {}
    },
    {
     "output_type": "execute_result",
     "execution_count": 1,
     "data": {
      "text/plain": [
       "Script     1.4.3                 Az.EventHub                         Core,Desk {New-AzEventHubName…\r\n",
       ""
      ]
     },
     "metadata": {}
    },
    {
     "output_type": "execute_result",
     "execution_count": 1,
     "data": {
      "text/plain": [
       "Script     1.4.0                 Az.FrontDoor                        Core,Desk {New-AzFrontDoor, G…\r\n",
       ""
      ]
     },
     "metadata": {}
    },
    {
     "output_type": "execute_result",
     "execution_count": 1,
     "data": {
      "text/plain": [
       "Script     0.0.3      preview    Az.Functions                        Core,Desk {Get-AzFunctionApp,…\r\n",
       ""
      ]
     },
     "metadata": {}
    },
    {
     "output_type": "execute_result",
     "execution_count": 1,
     "data": {
      "text/plain": [
       "Script     0.0.2      preview    Az.Functions                        Core,Desk {Get-AzFunctionApp,…\r\n",
       ""
      ]
     },
     "metadata": {}
    },
    {
     "output_type": "execute_result",
     "execution_count": 1,
     "data": {
      "text/plain": [
       "Script     0.10.7                Az.GuestConfiguration               Core,Desk {Get-AzVMGuestPolic…\r\n",
       ""
      ]
     },
     "metadata": {}
    },
    {
     "output_type": "execute_result",
     "execution_count": 1,
     "data": {
      "text/plain": [
       "Script     0.10.6                Az.GuestConfiguration               Core,Desk {Get-AzVMGuestPolic…\r\n",
       ""
      ]
     },
     "metadata": {}
    },
    {
     "output_type": "execute_result",
     "execution_count": 1,
     "data": {
      "text/plain": [
       "Script     3.1.0                 Az.HDInsight                        Core,Desk {Get-AzHDInsightJob…\r\n",
       ""
      ]
     },
     "metadata": {}
    },
    {
     "output_type": "execute_result",
     "execution_count": 1,
     "data": {
      "text/plain": [
       "Script     1.0.1                 Az.HealthcareApis                   Core,Desk {New-AzHealthcareAp…\r\n",
       ""
      ]
     },
     "metadata": {}
    },
    {
     "output_type": "execute_result",
     "execution_count": 1,
     "data": {
      "text/plain": [
       "Script     2.3.0                 Az.IotHub                           Core,Desk {Add-AzIotHubKey, G…\r\n",
       ""
      ]
     },
     "metadata": {}
    },
    {
     "output_type": "execute_result",
     "execution_count": 1,
     "data": {
      "text/plain": [
       "Script     1.5.2                 Az.KeyVault                         Core,Desk {Add-AzKeyVaultCert…\r\n",
       ""
      ]
     },
     "metadata": {}
    },
    {
     "output_type": "execute_result",
     "execution_count": 1,
     "data": {
      "text/plain": [
       "Script     0.1.2                 Az.Kusto                            Core,Desk {New-AzKustoCluster…\r\n",
       ""
      ]
     },
     "metadata": {}
    },
    {
     "output_type": "execute_result",
     "execution_count": 1,
     "data": {
      "text/plain": [
       "Script     1.3.2                 Az.LogicApp                         Core,Desk {Get-AzIntegrationA…\r\n",
       ""
      ]
     },
     "metadata": {}
    },
    {
     "output_type": "execute_result",
     "execution_count": 1,
     "data": {
      "text/plain": [
       "Script     1.1.3                 Az.MachineLearning                  Core,Desk {Move-AzMlCommitmen…\r\n",
       ""
      ]
     },
     "metadata": {}
    },
    {
     "output_type": "execute_result",
     "execution_count": 1,
     "data": {
      "text/plain": [
       "Script     1.0.2                 Az.ManagedServices                  Core,Desk {Get-AzManagedServi…\r\n",
       ""
      ]
     },
     "metadata": {}
    },
    {
     "output_type": "execute_result",
     "execution_count": 1,
     "data": {
      "text/plain": [
       "Script     1.0.2                 Az.MarketplaceOrdering              Core,Desk {Get-AzMarketplaceT…\r\n",
       ""
      ]
     },
     "metadata": {}
    },
    {
     "output_type": "execute_result",
     "execution_count": 1,
     "data": {
      "text/plain": [
       "Script     1.1.1                 Az.Media                            Core,Desk {Sync-AzMediaServic…\r\n",
       ""
      ]
     },
     "metadata": {}
    },
    {
     "output_type": "execute_result",
     "execution_count": 1,
     "data": {
      "text/plain": [
       "Script     1.6.2                 Az.Monitor                          Core,Desk {Get-AzMetricDefini…\r\n",
       ""
      ]
     },
     "metadata": {}
    },
    {
     "output_type": "execute_result",
     "execution_count": 1,
     "data": {
      "text/plain": [
       "Script     2.4.0                 Az.Network                          Core,Desk {Add-AzApplicationG…\r\n",
       ""
      ]
     },
     "metadata": {}
    },
    {
     "output_type": "execute_result",
     "execution_count": 1,
     "data": {
      "text/plain": [
       "Script     1.1.1                 Az.NotificationHubs                 Core,Desk {Get-AzNotification…\r\n",
       ""
      ]
     },
     "metadata": {}
    },
    {
     "output_type": "execute_result",
     "execution_count": 1,
     "data": {
      "text/plain": [
       "Script     1.3.4                 Az.OperationalInsights              Core,Desk {New-AzOperationalI…\r\n",
       ""
      ]
     },
     "metadata": {}
    },
    {
     "output_type": "execute_result",
     "execution_count": 1,
     "data": {
      "text/plain": [
       "Script     1.2.1                 Az.PolicyInsights                   Core,Desk {Get-AzPolicyEvent,…\r\n",
       ""
      ]
     },
     "metadata": {}
    },
    {
     "output_type": "execute_result",
     "execution_count": 1,
     "data": {
      "text/plain": [
       "Script     1.1.1                 Az.PowerBIEmbedded                  Core,Desk {Remove-AzPowerBIWo…\r\n",
       ""
      ]
     },
     "metadata": {}
    },
    {
     "output_type": "execute_result",
     "execution_count": 1,
     "data": {
      "text/plain": [
       "Script     1.0.2                 Az.PrivateDns                       Core,Desk {Get-AzPrivateDnsZo…\r\n",
       ""
      ]
     },
     "metadata": {}
    },
    {
     "output_type": "execute_result",
     "execution_count": 1,
     "data": {
      "text/plain": [
       "Script     2.8.0                 Az.RecoveryServices                 Core,Desk {Get-AzRecoveryServ…\r\n",
       ""
      ]
     },
     "metadata": {}
    },
    {
     "output_type": "execute_result",
     "execution_count": 1,
     "data": {
      "text/plain": [
       "Script     1.2.1                 Az.RedisCache                       Core,Desk {Remove-AzRedisCach…\r\n",
       ""
      ]
     },
     "metadata": {}
    },
    {
     "output_type": "execute_result",
     "execution_count": 1,
     "data": {
      "text/plain": [
       "Script     1.0.3                 Az.Relay                            Core,Desk {New-AzRelayNamespa…\r\n",
       ""
      ]
     },
     "metadata": {}
    },
    {
     "output_type": "execute_result",
     "execution_count": 1,
     "data": {
      "text/plain": [
       "Script     0.7.7                 Az.ResourceGraph                    Core,Desk Search-AzGraph\r\n",
       ""
      ]
     },
     "metadata": {}
    },
    {
     "output_type": "execute_result",
     "execution_count": 1,
     "data": {
      "text/plain": [
       "Script     1.13.0                Az.Resources                        Core,Desk {Get-AzProviderOper…\r\n",
       ""
      ]
     },
     "metadata": {}
    },
    {
     "output_type": "execute_result",
     "execution_count": 1,
     "data": {
      "text/plain": [
       "Script     1.4.1                 Az.ServiceBus                       Core,Desk {New-AzServiceBusNa…\r\n",
       ""
      ]
     },
     "metadata": {}
    },
    {
     "output_type": "execute_result",
     "execution_count": 1,
     "data": {
      "text/plain": [
       "Script     2.0.1                 Az.ServiceFabric                    Core,Desk {Add-AzServiceFabri…\r\n",
       ""
      ]
     },
     "metadata": {}
    },
    {
     "output_type": "execute_result",
     "execution_count": 1,
     "data": {
      "text/plain": [
       "Script     1.1.1                 Az.SignalR                          Core,Desk {New-AzSignalR, Get…\r\n",
       ""
      ]
     },
     "metadata": {}
    },
    {
     "output_type": "execute_result",
     "execution_count": 1,
     "data": {
      "text/plain": [
       "Script     2.5.0                 Az.Sql                              Core,Desk {Get-AzSqlDatabaseT…\r\n",
       ""
      ]
     },
     "metadata": {}
    },
    {
     "output_type": "execute_result",
     "execution_count": 1,
     "data": {
      "text/plain": [
       "Script     1.1.0                 Az.SqlVirtualMachine                Core,Desk {New-AzSqlVM, Get-A…\r\n",
       ""
      ]
     },
     "metadata": {}
    },
    {
     "output_type": "execute_result",
     "execution_count": 1,
     "data": {
      "text/plain": [
       "Script     1.13.0                Az.Storage                          Core,Desk {Get-AzStorageAccou…\r\n",
       ""
      ]
     },
     "metadata": {}
    },
    {
     "output_type": "execute_result",
     "execution_count": 1,
     "data": {
      "text/plain": [
       "Script     1.2.3                 Az.StorageSync                      Core,Desk {Invoke-AzStorageSy…\r\n",
       ""
      ]
     },
     "metadata": {}
    },
    {
     "output_type": "execute_result",
     "execution_count": 1,
     "data": {
      "text/plain": [
       "Script     1.0.1                 Az.StreamAnalytics                  Core,Desk {Get-AzStreamAnalyt…\r\n",
       ""
      ]
     },
     "metadata": {}
    },
    {
     "output_type": "execute_result",
     "execution_count": 1,
     "data": {
      "text/plain": [
       "Script     1.0.0                 Az.Support                          Core,Desk {Get-AzSupportServi…\r\n",
       ""
      ]
     },
     "metadata": {}
    },
    {
     "output_type": "execute_result",
     "execution_count": 1,
     "data": {
      "text/plain": [
       "Script     1.0.3                 Az.TrafficManager                   Core,Desk {Add-AzTrafficManag…\r\n",
       ""
      ]
     },
     "metadata": {}
    },
    {
     "output_type": "execute_result",
     "execution_count": 1,
     "data": {
      "text/plain": [
       "Script     1.8.0                 Az.Websites                         Core,Desk {Get-AzAppServicePl…\r\n",
       ""
      ]
     },
     "metadata": {}
    },
    {
     "output_type": "execute_result",
     "execution_count": 1,
     "data": {
      "text/plain": [
       "Binary     2.0.2.76              AzureAD                             Desk      \r\n",
       ""
      ]
     },
     "metadata": {}
    },
    {
     "output_type": "execute_result",
     "execution_count": 1,
     "data": {
      "text/plain": [
       "Script     0.0                   AzureHelpers                        Desk      New-ArgumentComplet…\r\n",
       ""
      ]
     },
     "metadata": {}
    },
    {
     "output_type": "execute_result",
     "execution_count": 1,
     "data": {
      "text/plain": [
       "Script     0.3.0                 CimPSDrive                          Desk      {Connect-CIM, Disco…\r\n",
       ""
      ]
     },
     "metadata": {}
    },
    {
     "output_type": "execute_result",
     "execution_count": 1,
     "data": {
      "text/plain": [
       "Script     1.3.1                 Configuration                       Desk      {Import-Configurati…\r\n",
       ""
      ]
     },
     "metadata": {}
    },
    {
     "output_type": "execute_result",
     "execution_count": 1,
     "data": {
      "text/plain": [
       "Script     0.0.1                 demomodule                          Desk      Get-Hello\r\n",
       ""
      ]
     },
     "metadata": {}
    },
    {
     "output_type": "execute_result",
     "execution_count": 1,
     "data": {
      "text/plain": [
       "Script     0.0                   DemoModule2                         Desk      Get-SystemInfo\r\n",
       ""
      ]
     },
     "metadata": {}
    },
    {
     "output_type": "execute_result",
     "execution_count": 1,
     "data": {
      "text/plain": [
       "Script     1.0.0      beta1      EditorServicesCommandSuite          Desk      {Get-CommandSuiteSe…\r\n",
       ""
      ]
     },
     "metadata": {}
    },
    {
     "output_type": "execute_result",
     "execution_count": 1,
     "data": {
      "text/plain": [
       "Script     1.0.1                 ExchangeOnlineManagement            Desk      {Get-EXOCasMailbox,…\r\n",
       ""
      ]
     },
     "metadata": {}
    },
    {
     "output_type": "execute_result",
     "execution_count": 1,
     "data": {
      "text/plain": [
       "Script     0.3582.0              ExchangeOnlineManagement            Desk      {Get-EXOCasMailbox,…\r\n",
       ""
      ]
     },
     "metadata": {}
    },
    {
     "output_type": "execute_result",
     "execution_count": 1,
     "data": {
      "text/plain": [
       "Manifest   0.1.1                 Microsoft.Graph                     Core,Desk \r\n",
       ""
      ]
     },
     "metadata": {}
    },
    {
     "output_type": "execute_result",
     "execution_count": 1,
     "data": {
      "text/plain": [
       "Script     0.1.1                 Microsoft.Graph.Analytics           Core,Desk {Get-MgActivitystat…\r\n",
       ""
      ]
     },
     "metadata": {}
    },
    {
     "output_type": "execute_result",
     "execution_count": 1,
     "data": {
      "text/plain": [
       "Binary     0.1.5                 Microsoft.Graph.Authentication      Core,Desk {Connect-Graph, Dis…\r\n",
       ""
      ]
     },
     "metadata": {}
    },
    {
     "output_type": "execute_result",
     "execution_count": 1,
     "data": {
      "text/plain": [
       "Script     0.1.1                 Microsoft.Graph.Bookings            Core,Desk {Get-MgBookingBusin…\r\n",
       ""
      ]
     },
     "metadata": {}
    },
    {
     "output_type": "execute_result",
     "execution_count": 1,
     "data": {
      "text/plain": [
       "Script     0.1.1                 Microsoft.Graph.DevicesApps.Mobile… Core,Desk {Get-MgUserManagedA…\r\n",
       ""
      ]
     },
     "metadata": {}
    },
    {
     "output_type": "execute_result",
     "execution_count": 1,
     "data": {
      "text/plain": [
       "Script     0.1.1                 Microsoft.Graph.DevicesApps.Office… Core,Desk {Get-MgOfficeConfig…\r\n",
       ""
      ]
     },
     "metadata": {}
    },
    {
     "output_type": "execute_result",
     "execution_count": 1,
     "data": {
      "text/plain": [
       "Script     0.1.1                 Microsoft.Graph.DevicesApps.Shared… Core,Desk {Get-MgUserMobileAp…\r\n",
       ""
      ]
     },
     "metadata": {}
    },
    {
     "output_type": "execute_result",
     "execution_count": 1,
     "data": {
      "text/plain": [
       "Script     0.1.1                 Microsoft.Graph.Education           Core,Desk {Get-MgEducationCla…\r\n",
       ""
      ]
     },
     "metadata": {}
    },
    {
     "output_type": "execute_result",
     "execution_count": 1,
     "data": {
      "text/plain": [
       "Script     0.1.1                 Microsoft.Graph.Files.Drives        Core,Desk {Get-MgDrive, Get-M…\r\n",
       ""
      ]
     },
     "metadata": {}
    },
    {
     "output_type": "execute_result",
     "execution_count": 1,
     "data": {
      "text/plain": [
       "Script     0.1.1                 Microsoft.Graph.Files.Permissions   Core,Desk {Get-MgGroupPermiss…\r\n",
       ""
      ]
     },
     "metadata": {}
    },
    {
     "output_type": "execute_result",
     "execution_count": 1,
     "data": {
      "text/plain": [
       "Script     0.1.1                 Microsoft.Graph.Files.Shares        Core,Desk {Get-MgShareDriveIt…\r\n",
       ""
      ]
     },
     "metadata": {}
    },
    {
     "output_type": "execute_result",
     "execution_count": 1,
     "data": {
      "text/plain": [
       "Script     0.1.1                 Microsoft.Graph.Groups.Calendar     Core,Desk {Get-MgGroupCalenda…\r\n",
       ""
      ]
     },
     "metadata": {}
    },
    {
     "output_type": "execute_result",
     "execution_count": 1,
     "data": {
      "text/plain": [
       "Script     0.1.1                 Microsoft.Graph.Groups.Conversation Core,Desk {Get-MgGroupConvers…\r\n",
       ""
      ]
     },
     "metadata": {}
    },
    {
     "output_type": "execute_result",
     "execution_count": 1,
     "data": {
      "text/plain": [
       "Script     0.1.1                 Microsoft.Graph.Groups.Conversatio… Core,Desk {Get-MgGroupThread,…\r\n",
       ""
      ]
     },
     "metadata": {}
    },
    {
     "output_type": "execute_result",
     "execution_count": 1,
     "data": {
      "text/plain": [
       "Script     0.1.1                 Microsoft.Graph.Groups.DirectoryOb… Core,Desk {Get-MgGroupAccepte…\r\n",
       ""
      ]
     },
     "metadata": {}
    },
    {
     "output_type": "execute_result",
     "execution_count": 1,
     "data": {
      "text/plain": [
       "Script     0.1.1                 Microsoft.Graph.Groups.Drive        Core,Desk {Get-MgGroupDrive, …\r\n",
       ""
      ]
     },
     "metadata": {}
    },
    {
     "output_type": "execute_result",
     "execution_count": 1,
     "data": {
      "text/plain": [
       "Script     0.1.1                 Microsoft.Graph.Groups.Endpoint     Core,Desk {Get-MgGroupEndpoin…\r\n",
       ""
      ]
     },
     "metadata": {}
    },
    {
     "output_type": "execute_result",
     "execution_count": 1,
     "data": {
      "text/plain": [
       "Script     0.1.1                 Microsoft.Graph.Groups.Extension    Core,Desk {Get-MgGroupExtensi…\r\n",
       ""
      ]
     },
     "metadata": {}
    },
    {
     "output_type": "execute_result",
     "execution_count": 1,
     "data": {
      "text/plain": [
       "Script     0.1.1                 Microsoft.Graph.Groups.Functions    Core,Desk {Get-MgGroupCalenda…\r\n",
       ""
      ]
     },
     "metadata": {}
    },
    {
     "output_type": "execute_result",
     "execution_count": 1,
     "data": {
      "text/plain": [
       "Script     0.1.1                 Microsoft.Graph.Groups.Group        Core,Desk {Get-MgGroup, New-M…\r\n",
       ""
      ]
     },
     "metadata": {}
    },
    {
     "output_type": "execute_result",
     "execution_count": 1,
     "data": {
      "text/plain": [
       "Script     0.1.1                 Microsoft.Graph.Groups.LifecyclePo… Core,Desk {Add-MgGroupLifecyc…\r\n",
       ""
      ]
     },
     "metadata": {}
    },
    {
     "output_type": "execute_result",
     "execution_count": 1,
     "data": {
      "text/plain": [
       "Script     0.1.1                 Microsoft.Graph.Groups.OneNote      Core,Desk {Get-MgGroupOnenote…\r\n",
       ""
      ]
     },
     "metadata": {}
    },
    {
     "output_type": "execute_result",
     "execution_count": 1,
     "data": {
      "text/plain": [
       "Script     0.1.1                 Microsoft.Graph.Groups.Planner      Core,Desk {Get-MgGroupPlanner…\r\n",
       ""
      ]
     },
     "metadata": {}
    },
    {
     "output_type": "execute_result",
     "execution_count": 1,
     "data": {
      "text/plain": [
       "Script     0.1.1                 Microsoft.Graph.Groups.ProfilePhoto Core,Desk {Get-MgGroupPhoto, …\r\n",
       ""
      ]
     },
     "metadata": {}
    },
    {
     "output_type": "execute_result",
     "execution_count": 1,
     "data": {
      "text/plain": [
       "Script     0.1.1                 Microsoft.Graph.Groups.Site         Core,Desk {Get-MgGroupSite, N…\r\n",
       ""
      ]
     },
     "metadata": {}
    },
    {
     "output_type": "execute_result",
     "execution_count": 1,
     "data": {
      "text/plain": [
       "Script     0.1.1                 Microsoft.Graph.Identity.AccessRev… Core,Desk {Add-MgAccessReview…\r\n",
       ""
      ]
     },
     "metadata": {}
    },
    {
     "output_type": "execute_result",
     "execution_count": 1,
     "data": {
      "text/plain": [
       "Script     0.1.1                 Microsoft.Graph.Identity.Administr… Core,Desk {Get-MgAdministrati…\r\n",
       ""
      ]
     },
     "metadata": {}
    },
    {
     "output_type": "execute_result",
     "execution_count": 1,
     "data": {
      "text/plain": [
       "Script     0.1.1                 Microsoft.Graph.Identity.Applicati… Core,Desk {Add-MgApplicationK…\r\n",
       ""
      ]
     },
     "metadata": {}
    },
    {
     "output_type": "execute_result",
     "execution_count": 1,
     "data": {
      "text/plain": [
       "Script     0.1.1                 Microsoft.Graph.Identity.AppRoleAs… Core,Desk {Get-MgAppRoleAssig…\r\n",
       ""
      ]
     },
     "metadata": {}
    },
    {
     "output_type": "execute_result",
     "execution_count": 1,
     "data": {
      "text/plain": [
       "Script     0.1.1                 Microsoft.Graph.Identity.AuditLogs  Core,Desk {Get-MgAuditLogDire…\r\n",
       ""
      ]
     },
     "metadata": {}
    },
    {
     "output_type": "execute_result",
     "execution_count": 1,
     "data": {
      "text/plain": [
       "Script     0.1.1                 Microsoft.Graph.Identity.AzureADPIM Core,Desk {Get-MgPrivilegedAp…\r\n",
       ""
      ]
     },
     "metadata": {}
    },
    {
     "output_type": "execute_result",
     "execution_count": 1,
     "data": {
      "text/plain": [
       "Script     0.1.1                 Microsoft.Graph.Identity.Certifica… Core,Desk {Get-MgCertificateB…\r\n",
       ""
      ]
     },
     "metadata": {}
    },
    {
     "output_type": "execute_result",
     "execution_count": 1,
     "data": {
      "text/plain": [
       "Script     0.1.1                 Microsoft.Graph.Identity.Contracts  Core,Desk {Get-MgContract, Ne…\r\n",
       ""
      ]
     },
     "metadata": {}
    },
    {
     "output_type": "execute_result",
     "execution_count": 1,
     "data": {
      "text/plain": [
       "Script     0.1.1                 Microsoft.Graph.Identity.DataPolic… Core,Desk {Get-MgDataPolicyOp…\r\n",
       ""
      ]
     },
     "metadata": {}
    },
    {
     "output_type": "execute_result",
     "execution_count": 1,
     "data": {
      "text/plain": [
       "Script     0.1.1                 Microsoft.Graph.Identity.Devices    Core,Desk {Get-MgDevice, Get-…\r\n",
       ""
      ]
     },
     "metadata": {}
    },
    {
     "output_type": "execute_result",
     "execution_count": 1,
     "data": {
      "text/plain": [
       "Script     0.1.1                 Microsoft.Graph.Identity.Directory  Core,Desk {Get-MgDirectory, G…\r\n",
       ""
      ]
     },
     "metadata": {}
    },
    {
     "output_type": "execute_result",
     "execution_count": 1,
     "data": {
      "text/plain": [
       "Script     0.1.1                 Microsoft.Graph.Identity.Directory… Core,Desk {Get-MgDirectoryObj…\r\n",
       ""
      ]
     },
     "metadata": {}
    },
    {
     "output_type": "execute_result",
     "execution_count": 1,
     "data": {
      "text/plain": [
       "Script     0.1.1                 Microsoft.Graph.Identity.Directory… Core,Desk {Get-MgDirectoryRol…\r\n",
       ""
      ]
     },
     "metadata": {}
    },
    {
     "output_type": "execute_result",
     "execution_count": 1,
     "data": {
      "text/plain": [
       "Script     0.1.1                 Microsoft.Graph.Identity.Directory… Core,Desk {Get-MgDirectoryRol…\r\n",
       ""
      ]
     },
     "metadata": {}
    },
    {
     "output_type": "execute_result",
     "execution_count": 1,
     "data": {
      "text/plain": [
       "Script     0.1.1                 Microsoft.Graph.Identity.Directory… Core,Desk {Get-MgGroupSetting…\r\n",
       ""
      ]
     },
     "metadata": {}
    },
    {
     "output_type": "execute_result",
     "execution_count": 1,
     "data": {
      "text/plain": [
       "Script     0.1.1                 Microsoft.Graph.Identity.Directory… Core,Desk {Get-MgDirectorySet…\r\n",
       ""
      ]
     },
     "metadata": {}
    },
    {
     "output_type": "execute_result",
     "execution_count": 1,
     "data": {
      "text/plain": [
       "Script     0.1.1                 Microsoft.Graph.Identity.Domains    Core,Desk {Get-MgDomain, Get-…\r\n",
       ""
      ]
     },
     "metadata": {}
    },
    {
     "output_type": "execute_result",
     "execution_count": 1,
     "data": {
      "text/plain": [
       "Script     0.1.1                 Microsoft.Graph.Identity.Invitatio… Core,Desk {Get-MgInvitation, …\r\n",
       ""
      ]
     },
     "metadata": {}
    },
    {
     "output_type": "execute_result",
     "execution_count": 1,
     "data": {
      "text/plain": [
       "Script     0.1.1                 Microsoft.Graph.Identity.OAuth2Per… Core,Desk {Get-MgOauth2Permis…\r\n",
       ""
      ]
     },
     "metadata": {}
    },
    {
     "output_type": "execute_result",
     "execution_count": 1,
     "data": {
      "text/plain": [
       "Script     0.1.1                 Microsoft.Graph.Identity.OnPremise… Core,Desk {Get-MgOnPremisPubl…\r\n",
       ""
      ]
     },
     "metadata": {}
    },
    {
     "output_type": "execute_result",
     "execution_count": 1,
     "data": {
      "text/plain": [
       "Script     0.1.1                 Microsoft.Graph.Identity.Organizat… Core,Desk {Get-MgOrganization…\r\n",
       ""
      ]
     },
     "metadata": {}
    },
    {
     "output_type": "execute_result",
     "execution_count": 1,
     "data": {
      "text/plain": [
       "Script     0.1.1                 Microsoft.Graph.Identity.Organizat… Core,Desk {Get-MgContactDelta…\r\n",
       ""
      ]
     },
     "metadata": {}
    },
    {
     "output_type": "execute_result",
     "execution_count": 1,
     "data": {
      "text/plain": [
       "Script     0.1.1                 Microsoft.Graph.Identity.Policies   Core,Desk {Get-MgPolicy, Get-…\r\n",
       ""
      ]
     },
     "metadata": {}
    },
    {
     "output_type": "execute_result",
     "execution_count": 1,
     "data": {
      "text/plain": [
       "Script     0.1.1                 Microsoft.Graph.Identity.Protection Core,Desk {Confirm-MgRiskyUse…\r\n",
       ""
      ]
     },
     "metadata": {}
    },
    {
     "output_type": "execute_result",
     "execution_count": 1,
     "data": {
      "text/plain": [
       "Script     0.1.1                 Microsoft.Graph.Identity.Providers  Core,Desk {Get-MgIdentityProv…\r\n",
       ""
      ]
     },
     "metadata": {}
    },
    {
     "output_type": "execute_result",
     "execution_count": 1,
     "data": {
      "text/plain": [
       "Script     0.1.1                 Microsoft.Graph.Identity.ServicePr… Core,Desk {Add-MgServicePrinc…\r\n",
       ""
      ]
     },
     "metadata": {}
    },
    {
     "output_type": "execute_result",
     "execution_count": 1,
     "data": {
      "text/plain": [
       "Script     0.1.1                 Microsoft.Graph.Identity.Subscribe… Core,Desk {Get-MgSubscribedSk…\r\n",
       ""
      ]
     },
     "metadata": {}
    },
    {
     "output_type": "execute_result",
     "execution_count": 1,
     "data": {
      "text/plain": [
       "Script     0.1.1                 Microsoft.Graph.Identity.TermsOfUse Core,Desk {Get-MgAgreement, G…\r\n",
       ""
      ]
     },
     "metadata": {}
    },
    {
     "output_type": "execute_result",
     "execution_count": 1,
     "data": {
      "text/plain": [
       "Script     0.1.1                 Microsoft.Graph.Identity.TrustFram… Core,Desk {Get-MgTrustFramewo…\r\n",
       ""
      ]
     },
     "metadata": {}
    },
    {
     "output_type": "execute_result",
     "execution_count": 1,
     "data": {
      "text/plain": [
       "Script     0.1.1                 Microsoft.Graph.Notification        Core,Desk {Get-MgUserNotifica…\r\n",
       ""
      ]
     },
     "metadata": {}
    },
    {
     "output_type": "execute_result",
     "execution_count": 1,
     "data": {
      "text/plain": [
       "Script     0.1.1                 Microsoft.Graph.OnlineMeetings      Core,Desk {Get-MgUserOnlineMe…\r\n",
       ""
      ]
     },
     "metadata": {}
    },
    {
     "output_type": "execute_result",
     "execution_count": 1,
     "data": {
      "text/plain": [
       "Script     0.1.1                 Microsoft.Graph.Places              Core,Desk {Get-MgPlace, New-M…\r\n",
       ""
      ]
     },
     "metadata": {}
    },
    {
     "output_type": "execute_result",
     "execution_count": 1,
     "data": {
      "text/plain": [
       "Script     0.1.1                 Microsoft.Graph.Planner             Core,Desk {Get-MgPlanner, Get…\r\n",
       ""
      ]
     },
     "metadata": {}
    },
    {
     "output_type": "execute_result",
     "execution_count": 1,
     "data": {
      "text/plain": [
       "Script     0.1.1                 Microsoft.Graph.SchemaExtensions    Core,Desk {Get-MgSchemaExtens…\r\n",
       ""
      ]
     },
     "metadata": {}
    },
    {
     "output_type": "execute_result",
     "execution_count": 1,
     "data": {
      "text/plain": [
       "Script     0.1.1                 Microsoft.Graph.Sites.Drive         Core,Desk {Get-MgSiteDrive, N…\r\n",
       ""
      ]
     },
     "metadata": {}
    },
    {
     "output_type": "execute_result",
     "execution_count": 1,
     "data": {
      "text/plain": [
       "Script     0.1.1                 Microsoft.Graph.Sites.List          Core,Desk {Get-MgSiteList, Ge…\r\n",
       ""
      ]
     },
     "metadata": {}
    },
    {
     "output_type": "execute_result",
     "execution_count": 1,
     "data": {
      "text/plain": [
       "Script     0.1.1                 Microsoft.Graph.Sites.OneNote       Core,Desk {Get-MgSiteOnenote,…\r\n",
       ""
      ]
     },
     "metadata": {}
    },
    {
     "output_type": "execute_result",
     "execution_count": 1,
     "data": {
      "text/plain": [
       "Script     0.1.1                 Microsoft.Graph.Sites.Pages         Core,Desk {Get-MgSitePage, Ne…\r\n",
       ""
      ]
     },
     "metadata": {}
    },
    {
     "output_type": "execute_result",
     "execution_count": 1,
     "data": {
      "text/plain": [
       "Script     0.1.1                 Microsoft.Graph.Sites.Site          Core,Desk {Get-MgSite, Get-Mg…\r\n",
       ""
      ]
     },
     "metadata": {}
    },
    {
     "output_type": "execute_result",
     "execution_count": 1,
     "data": {
      "text/plain": [
       "Script     0.1.1                 Microsoft.Graph.Subscriptions       Core,Desk {Get-MgSubscription…\r\n",
       ""
      ]
     },
     "metadata": {}
    },
    {
     "output_type": "execute_result",
     "execution_count": 1,
     "data": {
      "text/plain": [
       "Script     0.1.1                 Microsoft.Graph.Teams.AppCatalogs   Core,Desk {Get-MgAppCatalog, …\r\n",
       ""
      ]
     },
     "metadata": {}
    },
    {
     "output_type": "execute_result",
     "execution_count": 1,
     "data": {
      "text/plain": [
       "Script     0.1.1                 Microsoft.Graph.Teams.Channel       Core,Desk {Get-MgGroupChannel…\r\n",
       ""
      ]
     },
     "metadata": {}
    },
    {
     "output_type": "execute_result",
     "execution_count": 1,
     "data": {
      "text/plain": [
       "Script     0.1.1                 Microsoft.Graph.Teams.Chats         Core,Desk {Get-MgChat, Get-Mg…\r\n",
       ""
      ]
     },
     "metadata": {}
    },
    {
     "output_type": "execute_result",
     "execution_count": 1,
     "data": {
      "text/plain": [
       "Script     0.1.1                 Microsoft.Graph.Teams.Team          Core,Desk {Copy-MgTeam, Get-M…\r\n",
       ""
      ]
     },
     "metadata": {}
    },
    {
     "output_type": "execute_result",
     "execution_count": 1,
     "data": {
      "text/plain": [
       "Script     0.1.1                 Microsoft.Graph.Teams.Teamwork      Core,Desk {Get-MgUserTeamwork…\r\n",
       ""
      ]
     },
     "metadata": {}
    },
    {
     "output_type": "execute_result",
     "execution_count": 1,
     "data": {
      "text/plain": [
       "Script     0.1.1                 Microsoft.Graph.Users.ActivityFeed  Core,Desk {Get-MgUserActivity…\r\n",
       ""
      ]
     },
     "metadata": {}
    },
    {
     "output_type": "execute_result",
     "execution_count": 1,
     "data": {
      "text/plain": [
       "Script     0.1.1                 Microsoft.Graph.Users.Calendar      Core,Desk {Get-MgUserCalendar…\r\n",
       ""
      ]
     },
     "metadata": {}
    },
    {
     "output_type": "execute_result",
     "execution_count": 1,
     "data": {
      "text/plain": [
       "Script     0.1.1                 Microsoft.Graph.Users.Contacts      Core,Desk {Get-MgUserContact,…\r\n",
       ""
      ]
     },
     "metadata": {}
    },
    {
     "output_type": "execute_result",
     "execution_count": 1,
     "data": {
      "text/plain": [
       "Script     0.1.1                 Microsoft.Graph.Users.Devices       Core,Desk {Get-MgUserDevice, …\r\n",
       ""
      ]
     },
     "metadata": {}
    },
    {
     "output_type": "execute_result",
     "execution_count": 1,
     "data": {
      "text/plain": [
       "Script     0.1.1                 Microsoft.Graph.Users.DirectoryObj… Core,Desk {Get-MgUserCreatedO…\r\n",
       ""
      ]
     },
     "metadata": {}
    },
    {
     "output_type": "execute_result",
     "execution_count": 1,
     "data": {
      "text/plain": [
       "Script     0.1.1                 Microsoft.Graph.Users.Drive         Core,Desk {Get-MgUserDrive, N…\r\n",
       ""
      ]
     },
     "metadata": {}
    },
    {
     "output_type": "execute_result",
     "execution_count": 1,
     "data": {
      "text/plain": [
       "Script     0.1.1                 Microsoft.Graph.Users.Extensions    Core,Desk {Get-MgUserExtensio…\r\n",
       ""
      ]
     },
     "metadata": {}
    },
    {
     "output_type": "execute_result",
     "execution_count": 1,
     "data": {
      "text/plain": [
       "Script     0.1.1                 Microsoft.Graph.Users.FollowedSites Core,Desk Get-MgUserFollowedS…\r\n",
       ""
      ]
     },
     "metadata": {}
    },
    {
     "output_type": "execute_result",
     "execution_count": 1,
     "data": {
      "text/plain": [
       "Script     0.1.1                 Microsoft.Graph.Users.Functions     Core,Desk {Export-MgUserDevic…\r\n",
       ""
      ]
     },
     "metadata": {}
    },
    {
     "output_type": "execute_result",
     "execution_count": 1,
     "data": {
      "text/plain": [
       "Script     0.1.1                 Microsoft.Graph.Users.Groups        Core,Desk {Get-MgUserJoinedGr…\r\n",
       ""
      ]
     },
     "metadata": {}
    },
    {
     "output_type": "execute_result",
     "execution_count": 1,
     "data": {
      "text/plain": [
       "Script     0.1.1                 Microsoft.Graph.Users.InformationP… Core,Desk {Get-MgUserInformat…\r\n",
       ""
      ]
     },
     "metadata": {}
    },
    {
     "output_type": "execute_result",
     "execution_count": 1,
     "data": {
      "text/plain": [
       "Script     0.1.1                 Microsoft.Graph.Users.LicenseDetai… Core,Desk {Get-MgUserLicenseD…\r\n",
       ""
      ]
     },
     "metadata": {}
    },
    {
     "output_type": "execute_result",
     "execution_count": 1,
     "data": {
      "text/plain": [
       "Script     0.1.1                 Microsoft.Graph.Users.Mail          Core,Desk {Get-MgUserInferenc…\r\n",
       ""
      ]
     },
     "metadata": {}
    },
    {
     "output_type": "execute_result",
     "execution_count": 1,
     "data": {
      "text/plain": [
       "Script     0.1.1                 Microsoft.Graph.Users.OneNote       Core,Desk {Get-MgUserOnenote,…\r\n",
       ""
      ]
     },
     "metadata": {}
    },
    {
     "output_type": "execute_result",
     "execution_count": 1,
     "data": {
      "text/plain": [
       "Script     0.1.1                 Microsoft.Graph.Users.OutlookUser   Core,Desk {Get-MgUserOutlook,…\r\n",
       ""
      ]
     },
     "metadata": {}
    },
    {
     "output_type": "execute_result",
     "execution_count": 1,
     "data": {
      "text/plain": [
       "Script     0.1.1                 Microsoft.Graph.Users.People        Core,Desk {Get-MgUserPerson, …\r\n",
       ""
      ]
     },
     "metadata": {}
    },
    {
     "output_type": "execute_result",
     "execution_count": 1,
     "data": {
      "text/plain": [
       "Script     0.1.1                 Microsoft.Graph.Users.Planner       Core,Desk {Get-MgUserPlanner,…\r\n",
       ""
      ]
     },
     "metadata": {}
    },
    {
     "output_type": "execute_result",
     "execution_count": 1,
     "data": {
      "text/plain": [
       "Script     0.1.1                 Microsoft.Graph.Users.ProfilePhoto  Core,Desk {Get-MgUserPhoto, N…\r\n",
       ""
      ]
     },
     "metadata": {}
    },
    {
     "output_type": "execute_result",
     "execution_count": 1,
     "data": {
      "text/plain": [
       "Script     0.1.1                 Microsoft.Graph.Users.User          Core,Desk {Get-MgUser, Get-Mg…\r\n",
       ""
      ]
     },
     "metadata": {}
    },
    {
     "output_type": "execute_result",
     "execution_count": 1,
     "data": {
      "text/plain": [
       "Script     0.1.1                 Microsoft.Graph.Users.UserSettings  Core,Desk {Get-MgUserSetting,…\r\n",
       ""
      ]
     },
     "metadata": {}
    },
    {
     "output_type": "execute_result",
     "execution_count": 1,
     "data": {
      "text/plain": [
       "Script     0.2.0                 Microsoft.PowerShell.GraphicalTools Core      {Out-GridView, ogv}\r\n",
       ""
      ]
     },
     "metadata": {}
    },
    {
     "output_type": "execute_result",
     "execution_count": 1,
     "data": {
      "text/plain": [
       "Script     0.1.0                 Microsoft.PowerShell.RemotingTools  Desk      Enable-SSHRemoting\r\n",
       ""
      ]
     },
     "metadata": {}
    },
    {
     "output_type": "execute_result",
     "execution_count": 1,
     "data": {
      "text/plain": [
       "Script     1.1.42                MSTerminalSettings                  Desk      {Add-MSTerminalWord…\r\n",
       ""
      ]
     },
     "metadata": {}
    },
    {
     "output_type": "execute_result",
     "execution_count": 1,
     "data": {
      "text/plain": [
       "Script     1.0                   MyExchange                          Desk      {Get-PSImplicitRemo…\r\n",
       ""
      ]
     },
     "metadata": {}
    },
    {
     "output_type": "execute_result",
     "execution_count": 1,
     "data": {
      "text/plain": [
       "Script     0.0                   NEThelpers                          Desk      {Select-Member, Get…\r\n",
       ""
      ]
     },
     "metadata": {}
    },
    {
     "output_type": "execute_result",
     "execution_count": 1,
     "data": {
      "text/plain": [
       "Script     2.0.311               oh-my-posh                          Desk      {Show-Colors, Show-…\r\n",
       ""
      ]
     },
     "metadata": {}
    },
    {
     "output_type": "execute_result",
     "execution_count": 1,
     "data": {
      "text/plain": [
       "Script     0.12.0                platyPS                             Desk      {New-MarkdownHelp, …\r\n",
       ""
      ]
     },
     "metadata": {}
    },
    {
     "output_type": "execute_result",
     "execution_count": 1,
     "data": {
      "text/plain": [
       "Script     0.7.3                 posh-git                            Desk      {Invoke-NullCoalesc…\r\n",
       ""
      ]
     },
     "metadata": {}
    },
    {
     "output_type": "execute_result",
     "execution_count": 1,
     "data": {
      "text/plain": [
       "Script     0.0.44                PowerShellModuleProject             Desk      Test-Function\r\n",
       ""
      ]
     },
     "metadata": {}
    },
    {
     "output_type": "execute_result",
     "execution_count": 1,
     "data": {
      "text/plain": [
       "Script     0.0.43                PowerShellModuleProject             Desk      \r\n",
       ""
      ]
     },
     "metadata": {}
    },
    {
     "output_type": "execute_result",
     "execution_count": 1,
     "data": {
      "text/plain": [
       "Script     1.0.6                 PowerShellNotebook                  Desk      {Add-NotebookMarkdo…\r\n",
       ""
      ]
     },
     "metadata": {}
    },
    {
     "output_type": "execute_result",
     "execution_count": 1,
     "data": {
      "text/plain": [
       "Script     0.1.0                 PSNotifySend                        Core      Send-PSNotification\r\n",
       ""
      ]
     },
     "metadata": {}
    },
    {
     "output_type": "execute_result",
     "execution_count": 1,
     "data": {
      "text/plain": [
       "Script     1.0.0.1               PSPublicAPI                         Desk      \r\n",
       ""
      ]
     },
     "metadata": {}
    },
    {
     "output_type": "execute_result",
     "execution_count": 1,
     "data": {
      "text/plain": [
       "Script     0.2.0                 PSStringTemplate                    Desk      {New-StringTemplate…\r\n",
       ""
      ]
     },
     "metadata": {}
    },
    {
     "output_type": "execute_result",
     "execution_count": 1,
     "data": {
      "text/plain": [
       "Script     0.2.3                 PSWsl                               Core,Desk {Invoke-WslCommand,…\r\n",
       ""
      ]
     },
     "metadata": {}
    },
    {
     "output_type": "execute_result",
     "execution_count": 1,
     "data": {
      "text/plain": [
       "Binary     0.8.1                 SHiPS                               Desk      \r\n",
       ""
      ]
     },
     "metadata": {}
    },
    {
     "output_type": "execute_result",
     "execution_count": 1,
     "data": {
      "text/plain": [
       "Script     0.1.0                 Terminal-Icons                      Desk      {Add-TerminalIconsC…\r\n",
       ""
      ]
     },
     "metadata": {}
    },
    {
     "output_type": "execute_result",
     "execution_count": 1,
     "data": {
      "text/plain": [
       "Script     0.0                   test                                Desk      foo\r\n",
       ""
      ]
     },
     "metadata": {}
    },
    {
     "output_type": "execute_result",
     "execution_count": 1,
     "data": {
      "text/plain": [
       "Script     0.2.1                 WslInterop                          Core      {Import-WslCommand,…\r\n",
       ""
      ]
     },
     "metadata": {}
    },
    {
     "output_type": "execute_result",
     "execution_count": 1,
     "data": {
      "text/plain": [
       "Script     0.1                   WTX                                 Desk      \r\n",
       ""
      ]
     },
     "metadata": {}
    },
    {
     "output_type": "execute_result",
     "execution_count": 1,
     "data": {
      "text/plain": [
       "\r\n",
       ""
      ]
     },
     "metadata": {}
    },
    {
     "output_type": "execute_result",
     "execution_count": 1,
     "data": {
      "text/plain": [
       "    Directory: C:\\users\\aleksandar\\.nuget\\packages\\microsoft.dotnet-interactive\\1.0.131505\\tools\\ne\r\n",
       ""
      ]
     },
     "metadata": {}
    },
    {
     "output_type": "execute_result",
     "execution_count": 1,
     "data": {
      "text/plain": [
       "tcoreapp3.1\\any\\runtimes\\win\\lib\\netcoreapp3.1\\Modules\r\n",
       ""
      ]
     },
     "metadata": {}
    },
    {
     "output_type": "execute_result",
     "execution_count": 1,
     "data": {
      "text/plain": [
       "\r\n",
       ""
      ]
     },
     "metadata": {}
    },
    {
     "output_type": "execute_result",
     "execution_count": 1,
     "data": {
      "text/plain": [
       "ModuleType Version    PreRelease Name                                PSEdition ExportedCommands\r\n",
       ""
      ]
     },
     "metadata": {}
    },
    {
     "output_type": "execute_result",
     "execution_count": 1,
     "data": {
      "text/plain": [
       "---------- -------    ---------- ----                                --------- ----------------\r\n",
       ""
      ]
     },
     "metadata": {}
    },
    {
     "output_type": "execute_result",
     "execution_count": 1,
     "data": {
      "text/plain": [
       "Manifest   7.0.0.0               CimCmdlets                          Core      {Get-CimAssociatedI…\r\n",
       ""
      ]
     },
     "metadata": {}
    },
    {
     "output_type": "execute_result",
     "execution_count": 1,
     "data": {
      "text/plain": [
       "Manifest   7.0.0.0               Microsoft.PowerShell.Diagnostics    Core      {Get-WinEvent, New-…\r\n",
       ""
      ]
     },
     "metadata": {}
    },
    {
     "output_type": "execute_result",
     "execution_count": 1,
     "data": {
      "text/plain": [
       "Manifest   7.0.0.0               Microsoft.PowerShell.Host           Core      {Start-Transcript, …\r\n",
       ""
      ]
     },
     "metadata": {}
    },
    {
     "output_type": "execute_result",
     "execution_count": 1,
     "data": {
      "text/plain": [
       "Manifest   7.0.0.0               Microsoft.PowerShell.Management     Core      {Add-Content, Clear…\r\n",
       ""
      ]
     },
     "metadata": {}
    },
    {
     "output_type": "execute_result",
     "execution_count": 1,
     "data": {
      "text/plain": [
       "Manifest   7.0.0.0               Microsoft.PowerShell.Security       Core      {Get-Acl, Set-Acl, …\r\n",
       ""
      ]
     },
     "metadata": {}
    },
    {
     "output_type": "execute_result",
     "execution_count": 1,
     "data": {
      "text/plain": [
       "Manifest   7.0.0.0               Microsoft.PowerShell.Utility        Core      {Export-Alias, Get-…\r\n",
       ""
      ]
     },
     "metadata": {}
    },
    {
     "output_type": "execute_result",
     "execution_count": 1,
     "data": {
      "text/plain": [
       "Manifest   7.0.0.0               Microsoft.WSMan.Management          Core      {Disable-WSManCredS…\r\n",
       ""
      ]
     },
     "metadata": {}
    },
    {
     "output_type": "execute_result",
     "execution_count": 1,
     "data": {
      "text/plain": [
       "Script     7.0.0.0               PSDiagnostics                       Core      {Disable-PSTrace, D…\r\n",
       ""
      ]
     },
     "metadata": {}
    },
    {
     "output_type": "execute_result",
     "execution_count": 1,
     "data": {
      "text/plain": [
       "\r\n",
       ""
      ]
     },
     "metadata": {}
    },
    {
     "output_type": "execute_result",
     "execution_count": 1,
     "data": {
      "text/plain": [
       "    Directory: C:\\Program Files\\WindowsPowerShell\\Modules\r\n",
       ""
      ]
     },
     "metadata": {}
    },
    {
     "output_type": "execute_result",
     "execution_count": 1,
     "data": {
      "text/plain": [
       "\r\n",
       ""
      ]
     },
     "metadata": {}
    },
    {
     "output_type": "execute_result",
     "execution_count": 1,
     "data": {
      "text/plain": [
       "ModuleType Version    PreRelease Name                                PSEdition ExportedCommands\r\n",
       ""
      ]
     },
     "metadata": {}
    },
    {
     "output_type": "execute_result",
     "execution_count": 1,
     "data": {
      "text/plain": [
       "---------- -------    ---------- ----                                --------- ----------------\r\n",
       ""
      ]
     },
     "metadata": {}
    },
    {
     "output_type": "execute_result",
     "execution_count": 1,
     "data": {
      "text/plain": [
       "Script     1.0.1                 Microsoft.PowerShell.Operation.Val… Desk      {Get-OperationValid…\r\n",
       ""
      ]
     },
     "metadata": {}
    },
    {
     "output_type": "execute_result",
     "execution_count": 1,
     "data": {
      "text/plain": [
       "Script     1.0.0.0               Microsoft.SME.CredSspPolicy         Desk      \r\n",
       ""
      ]
     },
     "metadata": {}
    },
    {
     "output_type": "execute_result",
     "execution_count": 1,
     "data": {
      "text/plain": [
       "Script     1.2.4                 PackageManagement                   Desk      {Find-Package, Get-…\r\n",
       ""
      ]
     },
     "metadata": {}
    },
    {
     "output_type": "execute_result",
     "execution_count": 1,
     "data": {
      "text/plain": [
       "Script     4.4.2                 Pester                              Desk      {Describe, Context,…\r\n",
       ""
      ]
     },
     "metadata": {}
    },
    {
     "output_type": "execute_result",
     "execution_count": 1,
     "data": {
      "text/plain": [
       "Script     2.0.4                 PowerShellGet                       Desk      {Find-Command, Find…\r\n",
       ""
      ]
     },
     "metadata": {}
    },
    {
     "output_type": "execute_result",
     "execution_count": 1,
     "data": {
      "text/plain": [
       "Script     1.1.0.2               PsAzureCli                          Desk      \r\n",
       ""
      ]
     },
     "metadata": {}
    },
    {
     "output_type": "execute_result",
     "execution_count": 1,
     "data": {
      "text/plain": [
       "Script     2.0.0      beta2      PSReadline                          Desk      {Get-PSReadLineKeyH…\r\n",
       ""
      ]
     },
     "metadata": {}
    },
    {
     "output_type": "execute_result",
     "execution_count": 1,
     "data": {
      "text/plain": [
       "Binary     0.8.1                 SHiPS                               Desk      \r\n",
       ""
      ]
     },
     "metadata": {}
    },
    {
     "output_type": "execute_result",
     "execution_count": 1,
     "data": {
      "text/plain": [
       "Script     1.0.12                SpeculationControl                  Desk      Get-SpeculationCont…\r\n",
       ""
      ]
     },
     "metadata": {}
    },
    {
     "output_type": "execute_result",
     "execution_count": 1,
     "data": {
      "text/plain": [
       "\r\n",
       ""
      ]
     },
     "metadata": {}
    },
    {
     "output_type": "execute_result",
     "execution_count": 1,
     "data": {
      "text/plain": [
       "    Directory: C:\\WINDOWS\\system32\\WindowsPowerShell\\v1.0\\Modules\r\n",
       ""
      ]
     },
     "metadata": {}
    },
    {
     "output_type": "execute_result",
     "execution_count": 1,
     "data": {
      "text/plain": [
       "\r\n",
       ""
      ]
     },
     "metadata": {}
    },
    {
     "output_type": "execute_result",
     "execution_count": 1,
     "data": {
      "text/plain": [
       "ModuleType Version    PreRelease Name                                PSEdition ExportedCommands\r\n",
       ""
      ]
     },
     "metadata": {}
    },
    {
     "output_type": "execute_result",
     "execution_count": 1,
     "data": {
      "text/plain": [
       "---------- -------    ---------- ----                                --------- ----------------\r\n",
       ""
      ]
     },
     "metadata": {}
    },
    {
     "output_type": "execute_result",
     "execution_count": 1,
     "data": {
      "text/plain": [
       "Manifest   1.0.0.0               AppBackgroundTask                   Core,Desk {Disable-AppBackgro…\r\n",
       ""
      ]
     },
     "metadata": {}
    },
    {
     "output_type": "execute_result",
     "execution_count": 1,
     "data": {
      "text/plain": [
       "Manifest   2.0.1.0               Appx                                Core,Desk {Add-AppxPackage, G…\r\n",
       ""
      ]
     },
     "metadata": {}
    },
    {
     "output_type": "execute_result",
     "execution_count": 1,
     "data": {
      "text/plain": [
       "Script     1.0.0.0               AssignedAccess                      Core,Desk {Clear-AssignedAcce…\r\n",
       ""
      ]
     },
     "metadata": {}
    },
    {
     "output_type": "execute_result",
     "execution_count": 1,
     "data": {
      "text/plain": [
       "Manifest   1.0.0.0               BitLocker                           Core,Desk {Unlock-BitLocker, …\r\n",
       ""
      ]
     },
     "metadata": {}
    },
    {
     "output_type": "execute_result",
     "execution_count": 1,
     "data": {
      "text/plain": [
       "Manifest   1.0.0.0               BranchCache                         Core,Desk {Add-BCDataCacheExt…\r\n",
       ""
      ]
     },
     "metadata": {}
    },
    {
     "output_type": "execute_result",
     "execution_count": 1,
     "data": {
      "text/plain": [
       "Manifest   1.0                   ConfigDefender                      Core,Desk {Get-MpPreference, …\r\n",
       ""
      ]
     },
     "metadata": {}
    },
    {
     "output_type": "execute_result",
     "execution_count": 1,
     "data": {
      "text/plain": [
       "Manifest   1.0                   Defender                            Core,Desk {Get-MpPreference, …\r\n",
       ""
      ]
     },
     "metadata": {}
    },
    {
     "output_type": "execute_result",
     "execution_count": 1,
     "data": {
      "text/plain": [
       "Manifest   1.0.2.0               DeliveryOptimization                Core,Desk {Delete-DeliveryOpt…\r\n",
       ""
      ]
     },
     "metadata": {}
    },
    {
     "output_type": "execute_result",
     "execution_count": 1,
     "data": {
      "text/plain": [
       "Manifest   1.0.0.0               DirectAccessClientComponents        Core,Desk {Disable-DAManualEn…\r\n",
       ""
      ]
     },
     "metadata": {}
    },
    {
     "output_type": "execute_result",
     "execution_count": 1,
     "data": {
      "text/plain": [
       "Script     3.0                   Dism                                Core,Desk {Add-AppxProvisione…\r\n",
       ""
      ]
     },
     "metadata": {}
    },
    {
     "output_type": "execute_result",
     "execution_count": 1,
     "data": {
      "text/plain": [
       "Manifest   1.0.0.0               DnsClient                           Core,Desk {Resolve-DnsName, C…\r\n",
       ""
      ]
     },
     "metadata": {}
    },
    {
     "output_type": "execute_result",
     "execution_count": 1,
     "data": {
      "text/plain": [
       "Manifest   1.0.0.0               EventTracingManagement              Core,Desk {Start-EtwTraceSess…\r\n",
       ""
      ]
     },
     "metadata": {}
    },
    {
     "output_type": "execute_result",
     "execution_count": 1,
     "data": {
      "text/plain": [
       "Manifest   1.0.0.0               HgsClient                           Core,Desk {Get-HgsAttestation…\r\n",
       ""
      ]
     },
     "metadata": {}
    },
    {
     "output_type": "execute_result",
     "execution_count": 1,
     "data": {
      "text/plain": [
       "Manifest   1.0.0.0               HgsDiagnostics                      Core,Desk {New-HgsTraceTarget…\r\n",
       ""
      ]
     },
     "metadata": {}
    },
    {
     "output_type": "execute_result",
     "execution_count": 1,
     "data": {
      "text/plain": [
       "Binary     2.0.0.0               Hyper-V                             Core,Desk {Add-VMAssignableDe…\r\n",
       ""
      ]
     },
     "metadata": {}
    },
    {
     "output_type": "execute_result",
     "execution_count": 1,
     "data": {
      "text/plain": [
       "Binary     1.1                   Hyper-V                             Core,Desk {Add-VMDvdDrive, Ad…\r\n",
       ""
      ]
     },
     "metadata": {}
    },
    {
     "output_type": "execute_result",
     "execution_count": 1,
     "data": {
      "text/plain": [
       "Manifest   2.0.0.0               International                       Core,Desk {Get-WinDefaultInpu…\r\n",
       ""
      ]
     },
     "metadata": {}
    },
    {
     "output_type": "execute_result",
     "execution_count": 1,
     "data": {
      "text/plain": [
       "Manifest   3.0.0.0               Microsoft.PowerShell.Diagnostics    Core,Desk {Get-WinEvent, Get-…\r\n",
       ""
      ]
     },
     "metadata": {}
    },
    {
     "output_type": "execute_result",
     "execution_count": 1,
     "data": {
      "text/plain": [
       "Manifest   1.0.0.0               Microsoft.PowerShell.LocalAccounts  Core,Desk {Add-LocalGroupMemb…\r\n",
       ""
      ]
     },
     "metadata": {}
    },
    {
     "output_type": "execute_result",
     "execution_count": 1,
     "data": {
      "text/plain": [
       "Manifest   3.1.0.0               Microsoft.PowerShell.Management     Core,Desk {Add-Content, Clear…\r\n",
       ""
      ]
     },
     "metadata": {}
    },
    {
     "output_type": "execute_result",
     "execution_count": 1,
     "data": {
      "text/plain": [
       "Manifest   1.0                   MMAgent                             Core,Desk {Disable-MMAgent, E…\r\n",
       ""
      ]
     },
     "metadata": {}
    },
    {
     "output_type": "execute_result",
     "execution_count": 1,
     "data": {
      "text/plain": [
       "Manifest   2.0.0.0               NetAdapter                          Core,Desk {Disable-NetAdapter…\r\n",
       ""
      ]
     },
     "metadata": {}
    },
    {
     "output_type": "execute_result",
     "execution_count": 1,
     "data": {
      "text/plain": [
       "Manifest   1.0.0.0               NetConnection                       Core,Desk {Get-NetConnectionP…\r\n",
       ""
      ]
     },
     "metadata": {}
    },
    {
     "output_type": "execute_result",
     "execution_count": 1,
     "data": {
      "text/plain": [
       "Manifest   1.0.0.0               NetEventPacketCapture               Core,Desk {New-NetEventSessio…\r\n",
       ""
      ]
     },
     "metadata": {}
    },
    {
     "output_type": "execute_result",
     "execution_count": 1,
     "data": {
      "text/plain": [
       "Manifest   2.0.0.0               NetLbfo                             Core,Desk {Add-NetLbfoTeamMem…\r\n",
       ""
      ]
     },
     "metadata": {}
    },
    {
     "output_type": "execute_result",
     "execution_count": 1,
     "data": {
      "text/plain": [
       "Manifest   1.0.0.0               NetNat                              Core,Desk {Get-NetNat, Get-Ne…\r\n",
       ""
      ]
     },
     "metadata": {}
    },
    {
     "output_type": "execute_result",
     "execution_count": 1,
     "data": {
      "text/plain": [
       "Manifest   2.0.0.0               NetQos                              Core,Desk {Get-NetQosPolicy, …\r\n",
       ""
      ]
     },
     "metadata": {}
    },
    {
     "output_type": "execute_result",
     "execution_count": 1,
     "data": {
      "text/plain": [
       "Manifest   2.0.0.0               NetSecurity                         Core,Desk {Get-DAPolicyChange…\r\n",
       ""
      ]
     },
     "metadata": {}
    },
    {
     "output_type": "execute_result",
     "execution_count": 1,
     "data": {
      "text/plain": [
       "Manifest   1.0.0.0               NetSwitchTeam                       Core,Desk {New-NetSwitchTeam,…\r\n",
       ""
      ]
     },
     "metadata": {}
    },
    {
     "output_type": "execute_result",
     "execution_count": 1,
     "data": {
      "text/plain": [
       "Manifest   1.0.0.0               NetTCPIP                            Core,Desk {Get-NetIPAddress, …\r\n",
       ""
      ]
     },
     "metadata": {}
    },
    {
     "output_type": "execute_result",
     "execution_count": 1,
     "data": {
      "text/plain": [
       "Manifest   1.0.0.0               NetworkConnectivityStatus           Core,Desk {Get-DAConnectionSt…\r\n",
       ""
      ]
     },
     "metadata": {}
    },
    {
     "output_type": "execute_result",
     "execution_count": 1,
     "data": {
      "text/plain": [
       "Manifest   1.0.0.0               NetworkSwitchManager                Core,Desk {Disable-NetworkSwi…\r\n",
       ""
      ]
     },
     "metadata": {}
    },
    {
     "output_type": "execute_result",
     "execution_count": 1,
     "data": {
      "text/plain": [
       "Manifest   1.0.0.0               NetworkTransition                   Core,Desk {Add-NetIPHttpsCert…\r\n",
       ""
      ]
     },
     "metadata": {}
    },
    {
     "output_type": "execute_result",
     "execution_count": 1,
     "data": {
      "text/plain": [
       "Manifest   1.0.0.0               PcsvDevice                          Core,Desk {Get-PcsvDevice, St…\r\n",
       ""
      ]
     },
     "metadata": {}
    },
    {
     "output_type": "execute_result",
     "execution_count": 1,
     "data": {
      "text/plain": [
       "Manifest   1.0.0.0               PnpDevice                           Core,Desk {Get-PnpDevice, Get…\r\n",
       ""
      ]
     },
     "metadata": {}
    },
    {
     "output_type": "execute_result",
     "execution_count": 1,
     "data": {
      "text/plain": [
       "Manifest   1.1                   PrintManagement                     Core,Desk {Add-Printer, Add-P…\r\n",
       ""
      ]
     },
     "metadata": {}
    },
    {
     "output_type": "execute_result",
     "execution_count": 1,
     "data": {
      "text/plain": [
       "Binary     1.0.11                ProcessMitigations                  Core,Desk {Get-ProcessMitigat…\r\n",
       ""
      ]
     },
     "metadata": {}
    },
    {
     "output_type": "execute_result",
     "execution_count": 1,
     "data": {
      "text/plain": [
       "Manifest   1.0.0.0               ScheduledTasks                      Core,Desk {Get-ScheduledTask,…\r\n",
       ""
      ]
     },
     "metadata": {}
    },
    {
     "output_type": "execute_result",
     "execution_count": 1,
     "data": {
      "text/plain": [
       "Manifest   2.0.0.0               SecureBoot                          Core,Desk {Confirm-SecureBoot…\r\n",
       ""
      ]
     },
     "metadata": {}
    },
    {
     "output_type": "execute_result",
     "execution_count": 1,
     "data": {
      "text/plain": [
       "Manifest   2.0.0.0               SmbShare                            Core,Desk {Get-SmbShare, Remo…\r\n",
       ""
      ]
     },
     "metadata": {}
    },
    {
     "output_type": "execute_result",
     "execution_count": 1,
     "data": {
      "text/plain": [
       "Manifest   2.0.0.0               SmbWitness                          Core,Desk {Get-SmbWitnessClie…\r\n",
       ""
      ]
     },
     "metadata": {}
    },
    {
     "output_type": "execute_result",
     "execution_count": 1,
     "data": {
      "text/plain": [
       "Manifest   1.0.0.0               StartLayout                         Core,Desk {Export-StartLayout…\r\n",
       ""
      ]
     },
     "metadata": {}
    },
    {
     "output_type": "execute_result",
     "execution_count": 1,
     "data": {
      "text/plain": [
       "Manifest   2.0.0.0               Storage                             Core,Desk {Add-InitiatorIdToM…\r\n",
       ""
      ]
     },
     "metadata": {}
    },
    {
     "output_type": "execute_result",
     "execution_count": 1,
     "data": {
      "text/plain": [
       "Manifest   1.0.0.0               TroubleshootingPack                 Core,Desk {Get-Troubleshootin…\r\n",
       ""
      ]
     },
     "metadata": {}
    },
    {
     "output_type": "execute_result",
     "execution_count": 1,
     "data": {
      "text/plain": [
       "Manifest   2.0.0.0               TrustedPlatformModule               Core,Desk {Get-Tpm, Initializ…\r\n",
       ""
      ]
     },
     "metadata": {}
    },
    {
     "output_type": "execute_result",
     "execution_count": 1,
     "data": {
      "text/plain": [
       "Binary     2.1.639.0             UEV                                 Core,Desk \r\n",
       ""
      ]
     },
     "metadata": {}
    },
    {
     "output_type": "execute_result",
     "execution_count": 1,
     "data": {
      "text/plain": [
       "Manifest   2.0.0.0               VpnClient                           Core,Desk {Add-VpnConnection,…\r\n",
       ""
      ]
     },
     "metadata": {}
    },
    {
     "output_type": "execute_result",
     "execution_count": 1,
     "data": {
      "text/plain": [
       "Manifest   1.0.0.0               Wdac                                Core,Desk {Get-OdbcDriver, Se…\r\n",
       ""
      ]
     },
     "metadata": {}
    },
    {
     "output_type": "execute_result",
     "execution_count": 1,
     "data": {
      "text/plain": [
       "Manifest   2.0.0.0               Whea                                Core,Desk {Get-WheaMemoryPoli…\r\n",
       ""
      ]
     },
     "metadata": {}
    },
    {
     "output_type": "execute_result",
     "execution_count": 1,
     "data": {
      "text/plain": [
       "Manifest   1.0.0.0               WindowsDeveloperLicense             Core,Desk {Get-WindowsDevelop…\r\n",
       ""
      ]
     },
     "metadata": {}
    },
    {
     "output_type": "execute_result",
     "execution_count": 1,
     "data": {
      "text/plain": [
       "Script     1.0                   WindowsErrorReporting               Core,Desk {Enable-WindowsErro…\r\n",
       ""
      ]
     },
     "metadata": {}
    },
    {
     "output_type": "execute_result",
     "execution_count": 1,
     "data": {
      "text/plain": [
       "Manifest   1.0.0.0               WindowsSearch                       Core,Desk {Get-WindowsSearchS…\r\n",
       ""
      ]
     },
     "metadata": {}
    },
    {
     "output_type": "execute_result",
     "execution_count": 1,
     "data": {
      "text/plain": [
       "Manifest   1.0.0.0               WindowsUpdate                       Core,Desk Get-WindowsUpdateLog\r\n",
       ""
      ]
     },
     "metadata": {}
    },
    {
     "output_type": "execute_result",
     "execution_count": 1,
     "data": {
      "text/plain": [
       "Manifest   1.0.0.2               WindowsUpdateProvider               Core,Desk {Get-WUAVersion, Ge…\r\n",
       ""
      ]
     },
     "metadata": {}
    },
    {
     "output_type": "execute_result",
     "execution_count": 1,
     "data": {
      "text/plain": [
       "\r\n",
       ""
      ]
     },
     "metadata": {}
    }
   ]
  },
  {
   "cell_type": "code",
   "execution_count": 1,
   "metadata": {},
   "source": [
    "#!about"
   ],
   "outputs": [
    {
     "output_type": "execute_result",
     "execution_count": 1,
     "data": {
      "text/html": [
       "<table><tbody><tr><td><img src=\"data:image/png;base64, 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\" width=\"125em\"></img></td><td style=\"line-height:.8em\"><p style=\"font-size:1.5em\"><b>.NET Interactive</b></p><p>&#169; 2020 Microsoft Corporation</p><p><b>Version: </b>1.0.131505+0370139dc01ad442a9fc2edad63764a2e6156901</p><p><b>Build date: </b>2020-06-16T07:40:52.7252576Z</p><p><a href=\"https://github.com/dotnet/interactive\">https://github.com/dotnet/interactive</a></p></td></tr></tbody></table>"
      ]
     },
     "metadata": {}
    }
   ]
  },
  {
   "cell_type": "code",
   "execution_count": 1,
   "metadata": {},
   "source": [
    "#!powershell\r\n",
    "$PSVersionTable \r\n",
    ""
   ],
   "outputs": [
    {
     "output_type": "execute_result",
     "execution_count": 1,
     "data": {
      "text/plain": [
       "\r\n",
       ""
      ]
     },
     "metadata": {}
    },
    {
     "output_type": "execute_result",
     "execution_count": 1,
     "data": {
      "text/plain": [
       "Name                           Value\r\n",
       ""
      ]
     },
     "metadata": {}
    },
    {
     "output_type": "execute_result",
     "execution_count": 1,
     "data": {
      "text/plain": [
       "----                           -----\r\n",
       ""
      ]
     },
     "metadata": {}
    },
    {
     "output_type": "execute_result",
     "execution_count": 1,
     "data": {
      "text/plain": [
       "PSVersion                      7.0.0\r\n",
       ""
      ]
     },
     "metadata": {}
    },
    {
     "output_type": "execute_result",
     "execution_count": 1,
     "data": {
      "text/plain": [
       "PSEdition                      Core\r\n",
       ""
      ]
     },
     "metadata": {}
    },
    {
     "output_type": "execute_result",
     "execution_count": 1,
     "data": {
      "text/plain": [
       "GitCommitId                    7.0.0\r\n",
       ""
      ]
     },
     "metadata": {}
    },
    {
     "output_type": "execute_result",
     "execution_count": 1,
     "data": {
      "text/plain": [
       "OS                             Microsoft Windows 10.0.18363\r\n",
       ""
      ]
     },
     "metadata": {}
    },
    {
     "output_type": "execute_result",
     "execution_count": 1,
     "data": {
      "text/plain": [
       "Platform                       Win32NT\r\n",
       ""
      ]
     },
     "metadata": {}
    },
    {
     "output_type": "execute_result",
     "execution_count": 1,
     "data": {
      "text/plain": [
       "PSCompatibleVersions           {1.0, 2.0, 3.0, 4.0…}\r\n",
       ""
      ]
     },
     "metadata": {}
    },
    {
     "output_type": "execute_result",
     "execution_count": 1,
     "data": {
      "text/plain": [
       "PSRemotingProtocolVersion      2.3\r\n",
       ""
      ]
     },
     "metadata": {}
    },
    {
     "output_type": "execute_result",
     "execution_count": 1,
     "data": {
      "text/plain": [
       "SerializationVersion           1.1.0.1\r\n",
       ""
      ]
     },
     "metadata": {}
    },
    {
     "output_type": "execute_result",
     "execution_count": 1,
     "data": {
      "text/plain": [
       "WSManStackVersion              3.0\r\n",
       ""
      ]
     },
     "metadata": {}
    },
    {
     "output_type": "execute_result",
     "execution_count": 1,
     "data": {
      "text/plain": [
       "\r\n",
       ""
      ]
     },
     "metadata": {}
    }
   ]
  },
  {
   "cell_type": "code",
   "execution_count": 1,
   "metadata": {},
   "source": [
    ""
   ],
   "outputs": []
  }
 ],
 "metadata": {
  "kernelspec": {
   "display_name": ".NET (C#)",
   "language": "C#",
   "name": ".net-csharp"
  },
  "language_info": {
   "file_extension": ".cs",
   "mimetype": "text/x-csharp",
   "name": "C#",
   "pygments_lexer": "csharp",
   "version": "8.0"
  }
 },
 "nbformat": 4,
 "nbformat_minor": 4
}
